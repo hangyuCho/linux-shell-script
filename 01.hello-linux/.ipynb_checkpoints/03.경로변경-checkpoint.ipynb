{
 "cells": [
  {
   "cell_type": "markdown",
   "metadata": {},
   "source": [
    "### 절대경로\n",
    "``` shell \n",
    "cd /usr/local/include\n",
    "cd /usr/local\n",
    "#  ^가 root경로를 의미함.\n",
    "```\n",
    "### 상대경로\n",
    "``` shell\n",
    "cd ./include/\n",
    "#  ^^ 상대경로 현재 경로를 의미\n",
    "cd ./../../hoge\n",
    "#  ^^ 현재 경로\n",
    "cd ./../../hoge\n",
    "#    ^^^ 현재 경로의 부모 경로\n",
    "cd ./../../hoge\n",
    "#       ^^^ 현재 경로의 부모의 부모 경로\n",
    "```"
   ]
  },
  {
   "cell_type": "code",
   "execution_count": null,
   "metadata": {},
   "outputs": [],
   "source": []
  }
 ],
 "metadata": {
  "kernelspec": {
   "display_name": "Python 3.7.1 64-bit",
   "language": "python",
   "name": "python37164bitdbc156519f274f6396dfa5e6626fb4b2"
  },
  "toc": {
   "base_numbering": 1,
   "nav_menu": {},
   "number_sections": true,
   "sideBar": true,
   "skip_h1_title": false,
   "title_cell": "Table of Contents",
   "title_sidebar": "Contents",
   "toc_cell": false,
   "toc_position": {},
   "toc_section_display": true,
   "toc_window_display": false
  },
  "varInspector": {
   "cols": {
    "lenName": 16,
    "lenType": 16,
    "lenVar": 40
   },
   "kernels_config": {
    "python": {
     "delete_cmd_postfix": "",
     "delete_cmd_prefix": "del ",
     "library": "var_list.py",
     "varRefreshCmd": "print(var_dic_list())"
    },
    "r": {
     "delete_cmd_postfix": ") ",
     "delete_cmd_prefix": "rm(",
     "library": "var_list.r",
     "varRefreshCmd": "cat(var_dic_list()) "
    }
   },
   "types_to_exclude": [
    "module",
    "function",
    "builtin_function_or_method",
    "instance",
    "_Feature"
   ],
   "window_display": false
  }
 },
 "nbformat": 4,
 "nbformat_minor": 4
}

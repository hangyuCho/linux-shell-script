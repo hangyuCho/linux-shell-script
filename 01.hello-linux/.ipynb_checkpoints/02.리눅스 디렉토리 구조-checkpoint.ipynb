{
 "cells": [
  {
   "cell_type": "markdown",
   "metadata": {},
   "source": [
    "01. 최상위 디렉토리 root\n",
    "    * cd /\n",
    "02. /bin 디렉토리\n",
    "    * 기본 명령어들이 존재\n",
    "03. /sbin 디렉토리\n",
    "    * root권한으로(시스템권한) 실행할 수 있는 명령어\n",
    "04. /usr/bin\n",
    "    * 응용프로그램 설치 명령어(1)\n",
    "05. /usr/local/bin\n",
    "    * 응용프로그램 설치 명령어(2)\n",
    "06. /lib\n",
    "    * 기본 프로그램 및 응용프로그램의 라이브러리가 존재\n",
    "07. /usr/lib\n",
    "    * /lib 이외\n",
    "08. /usr/local/lib\n",
    "    * 응용프로그램이 참조하는 라이브러리가 존재\n",
    "09. /dev\n",
    "    * 장치파일 / 물리적인 하드웨어를 제어하는 장치파일이 존재\n",
    "10. /etc\n",
    "    * 환경파일을 저장하는 경로\n",
    "11. /home\n",
    "    * 작업 디렉토리\n",
    "    * 소유권을 신경쓰지않고 파일생성 및 삭제를 할 수 있음\n",
    "12. /var\n",
    "    * 시스템관련 많은 정보를 저장하는 경로\n",
    "    * /var/log 에 많은 로그파일이 많은 파일들이 존재함"
   ]
  },
  {
   "cell_type": "code",
   "execution_count": 1,
   "metadata": {},
   "outputs": [
    {
     "name": "stdout",
     "output_type": "stream",
     "text": [
      "cat: /var/log/syslog: No such file or directory\r\n"
     ]
    }
   ],
   "source": [
    "! cat /var/log/syslog"
   ]
  },
  {
   "cell_type": "markdown",
   "metadata": {},
   "source": [
    "13. /usr\n",
    "    * 프로그램 설치 디렉토리에 준하는 중요한 경로"
   ]
  }
 ],
 "metadata": {
  "kernelspec": {
   "display_name": "Python 3.7.1 64-bit",
   "language": "python",
   "name": "python37164bitdbc156519f274f6396dfa5e6626fb4b2"
  },
  "language_info": {
   "codemirror_mode": {
    "name": "ipython",
    "version": 3
   },
   "file_extension": ".py",
   "mimetype": "text/x-python",
   "name": "python",
   "nbconvert_exporter": "python",
   "pygments_lexer": "ipython3",
   "version": "3.7.1"
  },
  "toc": {
   "base_numbering": 1,
   "nav_menu": {},
   "number_sections": true,
   "sideBar": true,
   "skip_h1_title": false,
   "title_cell": "Table of Contents",
   "title_sidebar": "Contents",
   "toc_cell": false,
   "toc_position": {},
   "toc_section_display": true,
   "toc_window_display": false
  },
  "varInspector": {
   "cols": {
    "lenName": 16,
    "lenType": 16,
    "lenVar": 40
   },
   "kernels_config": {
    "python": {
     "delete_cmd_postfix": "",
     "delete_cmd_prefix": "del ",
     "library": "var_list.py",
     "varRefreshCmd": "print(var_dic_list())"
    },
    "r": {
     "delete_cmd_postfix": ") ",
     "delete_cmd_prefix": "rm(",
     "library": "var_list.r",
     "varRefreshCmd": "cat(var_dic_list()) "
    }
   },
   "types_to_exclude": [
    "module",
    "function",
    "builtin_function_or_method",
    "instance",
    "_Feature"
   ],
   "window_display": false
  }
 },
 "nbformat": 4,
 "nbformat_minor": 4
}
